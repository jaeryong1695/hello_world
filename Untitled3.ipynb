{
  "nbformat": 4,
  "nbformat_minor": 0,
  "metadata": {
    "colab": {
      "name": "Untitled3.ipynb",
      "version": "0.3.2",
      "provenance": [],
      "include_colab_link": true
    },
    "kernelspec": {
      "name": "python3",
      "display_name": "Python 3"
    }
  },
  "cells": [
    {
      "cell_type": "markdown",
      "metadata": {
        "id": "view-in-github",
        "colab_type": "text"
      },
      "source": [
        "<a href=\"https://colab.research.google.com/github/jaeryong1695/hello_world/blob/master/Untitled3.ipynb\" target=\"_parent\"><img src=\"https://colab.research.google.com/assets/colab-badge.svg\" alt=\"Open In Colab\"/></a>"
      ]
    },
    {
      "cell_type": "code",
      "metadata": {
        "id": "MwC684q81Zs4",
        "colab_type": "code",
        "outputId": "0f1941c6-40f0-49c9-a145-46f55b4224c5",
        "colab": {
          "base_uri": "https://localhost:8080/",
          "height": 127
        }
      },
      "source": [
        "from google.colab import drive\n",
        "drive.mount('/content/drive')"
      ],
      "execution_count": 0,
      "outputs": [
        {
          "output_type": "stream",
          "text": [
            "Go to this URL in a browser: https://accounts.google.com/o/oauth2/auth?client_id=947318989803-6bn6qk8qdgf4n4g3pfee6491hc0brc4i.apps.googleusercontent.com&redirect_uri=urn%3Aietf%3Awg%3Aoauth%3A2.0%3Aoob&scope=email%20https%3A%2F%2Fwww.googleapis.com%2Fauth%2Fdocs.test%20https%3A%2F%2Fwww.googleapis.com%2Fauth%2Fdrive%20https%3A%2F%2Fwww.googleapis.com%2Fauth%2Fdrive.photos.readonly%20https%3A%2F%2Fwww.googleapis.com%2Fauth%2Fpeopleapi.readonly&response_type=code\n",
            "\n",
            "Enter your authorization code:\n",
            "··········\n",
            "Mounted at /content/drive\n"
          ],
          "name": "stdout"
        }
      ]
    },
    {
      "cell_type": "code",
      "metadata": {
        "id": "c3Je811V1tE-",
        "colab_type": "code",
        "outputId": "8974aa58-22e6-4948-e5e1-60a854f60737",
        "colab": {
          "base_uri": "https://localhost:8080/",
          "height": 35
        }
      },
      "source": [
        "!ls '/content/drive/'"
      ],
      "execution_count": 0,
      "outputs": [
        {
          "output_type": "stream",
          "text": [
            "'My Drive'\n"
          ],
          "name": "stdout"
        }
      ]
    },
    {
      "cell_type": "code",
      "metadata": {
        "id": "8KSTEcTI1x88",
        "colab_type": "code",
        "outputId": "b1132652-4f4d-450d-93f0-3d708c1ba195",
        "colab": {
          "base_uri": "https://localhost:8080/",
          "height": 35
        }
      },
      "source": [
        "!mkdir -p '/content/drive/My Drive/test_colab'\n",
        "!ls -Fcal '/content/drive/My Drive/test_colab'"
      ],
      "execution_count": 0,
      "outputs": [
        {
          "output_type": "stream",
          "text": [
            "total 0\n"
          ],
          "name": "stdout"
        }
      ]
    },
    {
      "cell_type": "code",
      "metadata": {
        "id": "ggvGshy72GGF",
        "colab_type": "code",
        "colab": {}
      },
      "source": [
        "import numpy as np\n",
        "import pandas as pd\n",
        "\n",
        "df = pd.DataFrame(np.random.rand(10,5))\n",
        "df.to_csv(\"/content/drive/My Drive/test_colab/df.csv\")"
      ],
      "execution_count": 0,
      "outputs": []
    },
    {
      "cell_type": "code",
      "metadata": {
        "id": "j3vwLQs12W-1",
        "colab_type": "code",
        "outputId": "b8262454-e9e4-4d7c-e4b9-f1f6ad5bf84a",
        "colab": {
          "base_uri": "https://localhost:8080/",
          "height": 53
        }
      },
      "source": [
        "!ls -Fcal '/content/drive/My Drive/test_colab'"
      ],
      "execution_count": 0,
      "outputs": [
        {
          "output_type": "stream",
          "text": [
            "total 1\n",
            "-rw------- 1 root root 995 Sep 10 06:25 df.csv\n"
          ],
          "name": "stdout"
        }
      ]
    },
    {
      "cell_type": "code",
      "metadata": {
        "id": "x8e3Fjvk2eit",
        "colab_type": "code",
        "outputId": "0a8e8400-9c65-4355-d056-f2d50621a91c",
        "colab": {
          "base_uri": "https://localhost:8080/",
          "height": 359
        }
      },
      "source": [
        "pd.read_csv(\"/content/drive/My Drive/test_colab/df.csv\")"
      ],
      "execution_count": 0,
      "outputs": [
        {
          "output_type": "execute_result",
          "data": {
            "text/html": [
              "<div>\n",
              "<style scoped>\n",
              "    .dataframe tbody tr th:only-of-type {\n",
              "        vertical-align: middle;\n",
              "    }\n",
              "\n",
              "    .dataframe tbody tr th {\n",
              "        vertical-align: top;\n",
              "    }\n",
              "\n",
              "    .dataframe thead th {\n",
              "        text-align: right;\n",
              "    }\n",
              "</style>\n",
              "<table border=\"1\" class=\"dataframe\">\n",
              "  <thead>\n",
              "    <tr style=\"text-align: right;\">\n",
              "      <th></th>\n",
              "      <th>Unnamed: 0</th>\n",
              "      <th>0</th>\n",
              "      <th>1</th>\n",
              "      <th>2</th>\n",
              "      <th>3</th>\n",
              "      <th>4</th>\n",
              "    </tr>\n",
              "  </thead>\n",
              "  <tbody>\n",
              "    <tr>\n",
              "      <th>0</th>\n",
              "      <td>0</td>\n",
              "      <td>0.373836</td>\n",
              "      <td>0.519612</td>\n",
              "      <td>0.874770</td>\n",
              "      <td>0.308348</td>\n",
              "      <td>0.947189</td>\n",
              "    </tr>\n",
              "    <tr>\n",
              "      <th>1</th>\n",
              "      <td>1</td>\n",
              "      <td>0.282154</td>\n",
              "      <td>0.841419</td>\n",
              "      <td>0.980109</td>\n",
              "      <td>0.355189</td>\n",
              "      <td>0.792557</td>\n",
              "    </tr>\n",
              "    <tr>\n",
              "      <th>2</th>\n",
              "      <td>2</td>\n",
              "      <td>0.819793</td>\n",
              "      <td>0.886730</td>\n",
              "      <td>0.642332</td>\n",
              "      <td>0.927640</td>\n",
              "      <td>0.551098</td>\n",
              "    </tr>\n",
              "    <tr>\n",
              "      <th>3</th>\n",
              "      <td>3</td>\n",
              "      <td>0.230966</td>\n",
              "      <td>0.305181</td>\n",
              "      <td>0.238461</td>\n",
              "      <td>0.003809</td>\n",
              "      <td>0.420923</td>\n",
              "    </tr>\n",
              "    <tr>\n",
              "      <th>4</th>\n",
              "      <td>4</td>\n",
              "      <td>0.010175</td>\n",
              "      <td>0.372354</td>\n",
              "      <td>0.669204</td>\n",
              "      <td>0.409156</td>\n",
              "      <td>0.634581</td>\n",
              "    </tr>\n",
              "    <tr>\n",
              "      <th>5</th>\n",
              "      <td>5</td>\n",
              "      <td>0.149613</td>\n",
              "      <td>0.744064</td>\n",
              "      <td>0.847309</td>\n",
              "      <td>0.605119</td>\n",
              "      <td>0.745043</td>\n",
              "    </tr>\n",
              "    <tr>\n",
              "      <th>6</th>\n",
              "      <td>6</td>\n",
              "      <td>0.283552</td>\n",
              "      <td>0.774774</td>\n",
              "      <td>0.270744</td>\n",
              "      <td>0.144510</td>\n",
              "      <td>0.175548</td>\n",
              "    </tr>\n",
              "    <tr>\n",
              "      <th>7</th>\n",
              "      <td>7</td>\n",
              "      <td>0.070847</td>\n",
              "      <td>0.329176</td>\n",
              "      <td>0.741326</td>\n",
              "      <td>0.518762</td>\n",
              "      <td>0.609047</td>\n",
              "    </tr>\n",
              "    <tr>\n",
              "      <th>8</th>\n",
              "      <td>8</td>\n",
              "      <td>0.067664</td>\n",
              "      <td>0.257096</td>\n",
              "      <td>0.013231</td>\n",
              "      <td>0.053573</td>\n",
              "      <td>0.697019</td>\n",
              "    </tr>\n",
              "    <tr>\n",
              "      <th>9</th>\n",
              "      <td>9</td>\n",
              "      <td>0.192306</td>\n",
              "      <td>0.580176</td>\n",
              "      <td>0.539637</td>\n",
              "      <td>0.766784</td>\n",
              "      <td>0.039035</td>\n",
              "    </tr>\n",
              "  </tbody>\n",
              "</table>\n",
              "</div>"
            ],
            "text/plain": [
              "   Unnamed: 0         0         1         2         3         4\n",
              "0           0  0.373836  0.519612  0.874770  0.308348  0.947189\n",
              "1           1  0.282154  0.841419  0.980109  0.355189  0.792557\n",
              "2           2  0.819793  0.886730  0.642332  0.927640  0.551098\n",
              "3           3  0.230966  0.305181  0.238461  0.003809  0.420923\n",
              "4           4  0.010175  0.372354  0.669204  0.409156  0.634581\n",
              "5           5  0.149613  0.744064  0.847309  0.605119  0.745043\n",
              "6           6  0.283552  0.774774  0.270744  0.144510  0.175548\n",
              "7           7  0.070847  0.329176  0.741326  0.518762  0.609047\n",
              "8           8  0.067664  0.257096  0.013231  0.053573  0.697019\n",
              "9           9  0.192306  0.580176  0.539637  0.766784  0.039035"
            ]
          },
          "metadata": {
            "tags": []
          },
          "execution_count": 7
        }
      ]
    }
  ]
}